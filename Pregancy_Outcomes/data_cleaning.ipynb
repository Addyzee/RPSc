{
 "cells": [
  {
   "cell_type": "code",
   "execution_count": 3,
   "metadata": {},
   "outputs": [],
   "source": [
    "import pandas as pd\n",
    "import numpy as np"
   ]
  },
  {
   "cell_type": "markdown",
   "metadata": {},
   "source": [
    "### Difference between reading excel and csv\n",
    "Note the time difference"
   ]
  },
  {
   "cell_type": "code",
   "execution_count": 4,
   "metadata": {},
   "outputs": [
    {
     "name": "stderr",
     "output_type": "stream",
     "text": [
      "c:\\Users\\swift\\AppData\\Local\\Programs\\Python\\Python310\\lib\\site-packages\\openpyxl\\worksheet\\_reader.py:312: UserWarning: Unknown extension is not supported and will be removed\n",
      "  warn(msg)\n"
     ]
    }
   ],
   "source": [
    "df = pd.read_excel('Data\\\\main_dataset.xlsx')"
   ]
  },
  {
   "cell_type": "code",
   "execution_count": 30,
   "metadata": {},
   "outputs": [],
   "source": [
    "df = pd.read_csv('Data\\\\main_dataset.csv')"
   ]
  },
  {
   "cell_type": "markdown",
   "metadata": {},
   "source": [
    "If you are using colab, or you are facing any difficulties with reading the csv, run the cell below instead"
   ]
  },
  {
   "cell_type": "code",
   "execution_count": null,
   "metadata": {},
   "outputs": [],
   "source": [
    "# df = pd.read_csv('https://raw.githubusercontent.com/Addyzee/RPSc/master/Pregancy_Outcomes/Data/main_dataset.csv')"
   ]
  },
  {
   "cell_type": "markdown",
   "metadata": {},
   "source": [
    "### The data"
   ]
  },
  {
   "cell_type": "markdown",
   "metadata": {},
   "source": [
    "This data is obtained from a case study [here](https://drive.google.com/file/d/1zG-NJVOdMh5ex1T8k3Fn8TL1xpLoWEjH/view?usp=drive_link) . It includes the outcomes of pregnancies from some health facilities in Kenya and Uganda. You can go through the study and the [data dictionary](https://docs.google.com/spreadsheets/d/1ySK_tZTUpGNjIdBpi3joYvlIRSjhEsg0/edit?usp=drive_link&ouid=106123374821591906756&rtpof=true&sd=true) to gain more understanding. You can also go through the [data dictionary](https://docs.google.com/spreadsheets/d/1ySK_tZTUpGNjIdBpi3joYvlIRSjhEsg0/edit?usp=drive_link&ouid=106123374821591906756&rtpof=true&sd=true) and check the [readme](https://raw.githubusercontent.com/Addyzee/RPSc/master/Pregancy_Outcomes/Data/readme.txt) that was generated from this data.<br>\n",
    "Note that for today's class, we have renamed the columns to more self explanatory column names. This is what the next few cells of code do. We use their definitions from the data dictionary to make it easier for us to understand what they mean. We can then rename them depending on what we want to call them. This is what the next few cells of code do. You can browse through them quickly, then skip to the data assessment section below."
   ]
  },
  {
   "cell_type": "code",
   "execution_count": 31,
   "metadata": {},
   "outputs": [
    {
     "data": {
      "text/plain": [
       "Index(['id', 'country', 'facility_coded', 'referral_in', 'apgar_1', 'apgar_5',\n",
       "       'sex', 'baby_discharge_status', 'multiple', 'bba', 'doc_abortion',\n",
       "       'doc_iufd', 'record_type', 'mothers_age_cat', 'c_mother_status',\n",
       "       'c_cat_ga', 'c_cat_bw', 'c_mode_of_delivery', 'quarter',\n",
       "       'c_baby_status', 'c_birth_outcome', 'c_birth_weight_g2'],\n",
       "      dtype='object')"
      ]
     },
     "execution_count": 31,
     "metadata": {},
     "output_type": "execute_result"
    }
   ],
   "source": [
    "# current columns are not very intuitive for us to understand. We will rename them\n",
    "df.columns"
   ]
  },
  {
   "cell_type": "code",
   "execution_count": 28,
   "metadata": {},
   "outputs": [
    {
     "name": "stdout",
     "output_type": "stream",
     "text": [
      "['Content', 'country', 'Health  Facility Code  1-23', 'Was the mother referred into facility prior devliery? (First Contact/Follow-up Form)/ Referred In (MAT Reg) ', \"Infant's apgar score at 1  minute\", \"Infant's apgar score at 5 minutes\", 'Sex of infant at birth', \"Baby's Status at Discharge \", 'Multiple births', 'record  contains designation  that baby  was born  before  arrival at the  facility', 'record  contains documentation  that the pregnancy  outcome was a  spontneous abortion', 'record  conains designation that the fetal outcome was intrauterine fetal demise', 'Designates whether record was considered a birth or not', \"Mother's age\", \"Mother's Discharge Status \", 'Categorical GA  groups', 'Categorical BW groups', 'Mode of Delivery ', 'coded designation of quarters to enable data aggregation', \"Baby's Status at Delivery \", '<none>', 'Birthweight in  grams']\n"
     ]
    }
   ],
   "source": [
    "# pick the defiitions used by the authors in the data dictionary\n",
    "data_dictionary = pd.read_excel('Data/datadictionary.xlsx')\n",
    "print(list(data_dictionary['Unnamed: 1']))"
   ]
  },
  {
   "cell_type": "code",
   "execution_count": 32,
   "metadata": {},
   "outputs": [],
   "source": [
    "# rename from original column names to the ones in the data dictionary\n",
    "new_cols = ['country', 'Health  Facility Code  1-23', 'Was the mother referred into facility prior devliery? (First Contact/Follow-up Form)/ Referred In (MAT Reg) ', \"Infant's apgar score at 1  minute\", \"Infant's apgar score at 5 minutes\", 'Sex of infant at birth', \"Baby's Status at Discharge \", 'Multiple births', 'record  contains designation  that baby  was born  before  arrival at the  facility', 'record  contains documentation  that the pregnancy  outcome was a  spontneous abortion',\n",
    "            'record  conains designation that the fetal outcome was intrauterine fetal demise', 'Designates whether record was considered a birth or not', \"Mother's age\", \"Mother's Discharge Status \", 'Categorical GA  groups', 'Categorical BW groups', 'Mode of Delivery ', 'coded designation of quarters to enable data aggregation', \"Baby's Status at Delivery \", 'Birth status', 'Birthweight in  grams']\n",
    "df.rename(columns ={df.columns[1:][i] : new_cols[i] for i in range(len(new_cols))},inplace=True)"
   ]
  },
  {
   "cell_type": "code",
   "execution_count": 33,
   "metadata": {},
   "outputs": [
    {
     "data": {
      "text/plain": [
       "Index(['id', 'country', 'Health  Facility Code  1-23',\n",
       "       'Was the mother referred into facility prior devliery? (First Contact/Follow-up Form)/ Referred In (MAT Reg) ',\n",
       "       'Infant's apgar score at 1  minute',\n",
       "       'Infant's apgar score at 5 minutes', 'Sex of infant at birth',\n",
       "       'Baby's Status at Discharge ', 'Multiple births',\n",
       "       'record  contains designation  that baby  was born  before  arrival at the  facility',\n",
       "       'record  contains documentation  that the pregnancy  outcome was a  spontneous abortion',\n",
       "       'record  conains designation that the fetal outcome was intrauterine fetal demise',\n",
       "       'Designates whether record was considered a birth or not',\n",
       "       'Mother's age', 'Mother's Discharge Status ', 'Categorical GA  groups',\n",
       "       'Categorical BW groups', 'Mode of Delivery ',\n",
       "       'coded designation of quarters to enable data aggregation',\n",
       "       'Baby's Status at Delivery ', 'Birth status', 'Birthweight in  grams'],\n",
       "      dtype='object')"
      ]
     },
     "execution_count": 33,
     "metadata": {},
     "output_type": "execute_result"
    }
   ],
   "source": [
    "# These are the new column names\n",
    "df.columns"
   ]
  },
  {
   "cell_type": "markdown",
   "metadata": {},
   "source": [
    "Optional-- You can use the next two cells to check the difference between writing to a csv, and writing to an excel file. Note the time taken by each. "
   ]
  },
  {
   "cell_type": "code",
   "execution_count": null,
   "metadata": {},
   "outputs": [],
   "source": [
    "df.to_csv('main_dataset_renamed.csv',index=0)"
   ]
  },
  {
   "cell_type": "code",
   "execution_count": 26,
   "metadata": {},
   "outputs": [],
   "source": [
    "df.to_excel('main_dataset_renamed.xlsx',index=0)"
   ]
  },
  {
   "cell_type": "markdown",
   "metadata": {},
   "source": [
    "### Data Assessment"
   ]
  },
  {
   "cell_type": "markdown",
   "metadata": {},
   "source": [
    "#### Understanding our data more"
   ]
  },
  {
   "cell_type": "markdown",
   "metadata": {},
   "source": [
    "For the questions below, you can start answering questions like what our sample size was, and which variables were collected in this data.<br>\n",
    "Checkout functions like `.shape()`,`.info()`, `head()`, `tail()`, among others you have already seen. You can use the [cheatsheet](https://pandas.pydata.org/Pandas_Cheat_Sheet.pdf) too."
   ]
  },
  {
   "cell_type": "markdown",
   "metadata": {},
   "source": [
    "What do the first ten rows of your data look like?"
   ]
  },
  {
   "cell_type": "code",
   "execution_count": null,
   "metadata": {},
   "outputs": [],
   "source": []
  },
  {
   "cell_type": "markdown",
   "metadata": {},
   "source": [
    "What do the last ten look like?"
   ]
  },
  {
   "cell_type": "code",
   "execution_count": null,
   "metadata": {},
   "outputs": [],
   "source": []
  },
  {
   "cell_type": "markdown",
   "metadata": {},
   "source": [
    "Can you randomly display 10 rows from the data?"
   ]
  },
  {
   "cell_type": "code",
   "execution_count": null,
   "metadata": {},
   "outputs": [],
   "source": []
  },
  {
   "cell_type": "markdown",
   "metadata": {},
   "source": [
    "Great! What do you think each record represents? Have you noted any data issues already? <br>\n",
    "How many records do we have in the dataset? <br>\n",
    "*Hint: You can use one of the functions mentioned above.*"
   ]
  },
  {
   "cell_type": "code",
   "execution_count": null,
   "metadata": {},
   "outputs": [],
   "source": []
  },
  {
   "cell_type": "markdown",
   "metadata": {},
   "source": [
    "How many columns do we have in the dataset?<br>\n",
    "*Also one of the functions mentioned above*"
   ]
  },
  {
   "cell_type": "code",
   "execution_count": null,
   "metadata": {},
   "outputs": [],
   "source": []
  },
  {
   "cell_type": "markdown",
   "metadata": {},
   "source": [
    "What data types do you have in your data?"
   ]
  },
  {
   "cell_type": "code",
   "execution_count": 42,
   "metadata": {},
   "outputs": [
    {
     "name": "stdout",
     "output_type": "stream",
     "text": [
      "<class 'pandas.core.frame.DataFrame'>\n",
      "RangeIndex: 61018 entries, 0 to 61017\n",
      "Data columns (total 22 columns):\n",
      " #   Column                                                                                                        Non-Null Count  Dtype  \n",
      "---  ------                                                                                                        --------------  -----  \n",
      " 0   id                                                                                                            61018 non-null  int64  \n",
      " 1   country                                                                                                       61018 non-null  int64  \n",
      " 2   Health  Facility Code  1-23                                                                                   61018 non-null  object \n",
      " 3   Was the mother referred into facility prior devliery? (First Contact/Follow-up Form)/ Referred In (MAT Reg)   36636 non-null  object \n",
      " 4   Infant's apgar score at 1  minute                                                                             46415 non-null  float64\n",
      " 5   Infant's apgar score at 5 minutes                                                                             40699 non-null  float64\n",
      " 6   Sex of infant at birth                                                                                        47357 non-null  object \n",
      " 7   Baby's Status at Discharge                                                                                    45208 non-null  object \n",
      " 8   Multiple births                                                                                               59472 non-null  float64\n",
      " 9   record  contains designation  that baby  was born  before  arrival at the  facility                           61018 non-null  int64  \n",
      " 10  record  contains documentation  that the pregnancy  outcome was a  spontneous abortion                        61018 non-null  int64  \n",
      " 11  record  conains designation that the fetal outcome was intrauterine fetal demise                              670 non-null    float64\n",
      " 12  Designates whether record was considered a birth or not                                                       61018 non-null  object \n",
      " 13  Mother's age                                                                                                  61018 non-null  object \n",
      " 14  Mother's Discharge Status                                                                                     50772 non-null  object \n",
      " 15  Categorical GA  groups                                                                                        49974 non-null  object \n",
      " 16  Categorical BW groups                                                                                         47194 non-null  object \n",
      " 17  Mode of Delivery                                                                                              48498 non-null  object \n",
      " 18  coded designation of quarters to enable data aggregation                                                      60886 non-null  object \n",
      " 19  Baby's Status at Delivery                                                                                     61018 non-null  object \n",
      " 20  Birth status                                                                                                  61018 non-null  object \n",
      " 21  Birthweight in  grams                                                                                         47194 non-null  float64\n",
      "dtypes: float64(5), int64(4), object(13)\n",
      "memory usage: 10.2+ MB\n"
     ]
    }
   ],
   "source": []
  },
  {
   "cell_type": "markdown",
   "metadata": {},
   "source": [
    "What do each of the `Dtype`s mean? What do you think `object` means as opposed to `float`? Do you think there are other data types we could have to replace the `object` `Dtype`?"
   ]
  },
  {
   "cell_type": "markdown",
   "metadata": {},
   "source": [
    "#### Splitting the data"
   ]
  },
  {
   "cell_type": "markdown",
   "metadata": {},
   "source": [
    "For this session, we will focus on cleaning the first 15 columns, and for your assignment, you can work on the remaining columns. Let's start by getting subsets of our data."
   ]
  },
  {
   "cell_type": "code",
   "execution_count": 43,
   "metadata": {},
   "outputs": [
    {
     "data": {
      "text/plain": [
       "Index(['id', 'country', 'Health  Facility Code  1-23',\n",
       "       'Was the mother referred into facility prior devliery? (First Contact/Follow-up Form)/ Referred In (MAT Reg) ',\n",
       "       'Infant's apgar score at 1  minute',\n",
       "       'Infant's apgar score at 5 minutes', 'Sex of infant at birth',\n",
       "       'Baby's Status at Discharge ', 'Multiple births',\n",
       "       'record  contains designation  that baby  was born  before  arrival at the  facility',\n",
       "       'record  contains documentation  that the pregnancy  outcome was a  spontneous abortion',\n",
       "       'record  conains designation that the fetal outcome was intrauterine fetal demise',\n",
       "       'Designates whether record was considered a birth or not',\n",
       "       'Mother's age', 'Mother's Discharge Status '],\n",
       "      dtype='object')"
      ]
     },
     "execution_count": 43,
     "metadata": {},
     "output_type": "execute_result"
    }
   ],
   "source": [
    "df.columns[:15]"
   ]
  },
  {
   "cell_type": "code",
   "execution_count": 38,
   "metadata": {},
   "outputs": [
    {
     "data": {
      "text/html": [
       "<div>\n",
       "<style scoped>\n",
       "    .dataframe tbody tr th:only-of-type {\n",
       "        vertical-align: middle;\n",
       "    }\n",
       "\n",
       "    .dataframe tbody tr th {\n",
       "        vertical-align: top;\n",
       "    }\n",
       "\n",
       "    .dataframe thead th {\n",
       "        text-align: right;\n",
       "    }\n",
       "</style>\n",
       "<table border=\"1\" class=\"dataframe\">\n",
       "  <thead>\n",
       "    <tr style=\"text-align: right;\">\n",
       "      <th></th>\n",
       "      <th>id</th>\n",
       "      <th>country</th>\n",
       "      <th>Health  Facility Code  1-23</th>\n",
       "      <th>Was the mother referred into facility prior devliery? (First Contact/Follow-up Form)/ Referred In (MAT Reg)</th>\n",
       "      <th>Infant's apgar score at 1  minute</th>\n",
       "      <th>Infant's apgar score at 5 minutes</th>\n",
       "      <th>Sex of infant at birth</th>\n",
       "      <th>Baby's Status at Discharge</th>\n",
       "      <th>Multiple births</th>\n",
       "      <th>record  contains designation  that baby  was born  before  arrival at the  facility</th>\n",
       "      <th>record  contains documentation  that the pregnancy  outcome was a  spontneous abortion</th>\n",
       "      <th>record  conains designation that the fetal outcome was intrauterine fetal demise</th>\n",
       "      <th>Designates whether record was considered a birth or not</th>\n",
       "      <th>Mother's age</th>\n",
       "      <th>Mother's Discharge Status</th>\n",
       "    </tr>\n",
       "  </thead>\n",
       "  <tbody>\n",
       "    <tr>\n",
       "      <th>0</th>\n",
       "      <td>162230</td>\n",
       "      <td>2</td>\n",
       "      <td>HF0004</td>\n",
       "      <td>1</td>\n",
       "      <td>7.0</td>\n",
       "      <td>9.0</td>\n",
       "      <td>Male</td>\n",
       "      <td>NaN</td>\n",
       "      <td>1.0</td>\n",
       "      <td>0</td>\n",
       "      <td>0</td>\n",
       "      <td>NaN</td>\n",
       "      <td>Birth</td>\n",
       "      <td>≤19</td>\n",
       "      <td>Discharged_Alive</td>\n",
       "    </tr>\n",
       "    <tr>\n",
       "      <th>1</th>\n",
       "      <td>127964</td>\n",
       "      <td>2</td>\n",
       "      <td>HF0005</td>\n",
       "      <td>NaN</td>\n",
       "      <td>NaN</td>\n",
       "      <td>NaN</td>\n",
       "      <td>NaN</td>\n",
       "      <td>NaN</td>\n",
       "      <td>1.0</td>\n",
       "      <td>0</td>\n",
       "      <td>0</td>\n",
       "      <td>NaN</td>\n",
       "      <td>Discharge_Preg</td>\n",
       "      <td>≤19</td>\n",
       "      <td>Discharged_Alive</td>\n",
       "    </tr>\n",
       "    <tr>\n",
       "      <th>2</th>\n",
       "      <td>148113</td>\n",
       "      <td>2</td>\n",
       "      <td>HF0006</td>\n",
       "      <td>0</td>\n",
       "      <td>NaN</td>\n",
       "      <td>NaN</td>\n",
       "      <td>NaN</td>\n",
       "      <td>NaN</td>\n",
       "      <td>1.0</td>\n",
       "      <td>0</td>\n",
       "      <td>0</td>\n",
       "      <td>NaN</td>\n",
       "      <td>Discharge_Preg</td>\n",
       "      <td>≤19</td>\n",
       "      <td>Discharged_Alive</td>\n",
       "    </tr>\n",
       "    <tr>\n",
       "      <th>3</th>\n",
       "      <td>95858</td>\n",
       "      <td>1</td>\n",
       "      <td>HF014</td>\n",
       "      <td>NaN</td>\n",
       "      <td>10.0</td>\n",
       "      <td>10.0</td>\n",
       "      <td>Male</td>\n",
       "      <td>Alive</td>\n",
       "      <td>NaN</td>\n",
       "      <td>0</td>\n",
       "      <td>0</td>\n",
       "      <td>NaN</td>\n",
       "      <td>Birth</td>\n",
       "      <td>≤19</td>\n",
       "      <td>Alive</td>\n",
       "    </tr>\n",
       "    <tr>\n",
       "      <th>4</th>\n",
       "      <td>206414</td>\n",
       "      <td>1</td>\n",
       "      <td>HF007</td>\n",
       "      <td>NaN</td>\n",
       "      <td>9.0</td>\n",
       "      <td>10.0</td>\n",
       "      <td>Male</td>\n",
       "      <td>Alive</td>\n",
       "      <td>1.0</td>\n",
       "      <td>0</td>\n",
       "      <td>0</td>\n",
       "      <td>NaN</td>\n",
       "      <td>Birth</td>\n",
       "      <td>≤19</td>\n",
       "      <td>alive</td>\n",
       "    </tr>\n",
       "    <tr>\n",
       "      <th>...</th>\n",
       "      <td>...</td>\n",
       "      <td>...</td>\n",
       "      <td>...</td>\n",
       "      <td>...</td>\n",
       "      <td>...</td>\n",
       "      <td>...</td>\n",
       "      <td>...</td>\n",
       "      <td>...</td>\n",
       "      <td>...</td>\n",
       "      <td>...</td>\n",
       "      <td>...</td>\n",
       "      <td>...</td>\n",
       "      <td>...</td>\n",
       "      <td>...</td>\n",
       "      <td>...</td>\n",
       "    </tr>\n",
       "    <tr>\n",
       "      <th>61013</th>\n",
       "      <td>203864</td>\n",
       "      <td>1</td>\n",
       "      <td>HF023</td>\n",
       "      <td>NaN</td>\n",
       "      <td>9.0</td>\n",
       "      <td>10.0</td>\n",
       "      <td>Female</td>\n",
       "      <td>Alive</td>\n",
       "      <td>1.0</td>\n",
       "      <td>0</td>\n",
       "      <td>0</td>\n",
       "      <td>NaN</td>\n",
       "      <td>Birth</td>\n",
       "      <td>missing</td>\n",
       "      <td>alive</td>\n",
       "    </tr>\n",
       "    <tr>\n",
       "      <th>61014</th>\n",
       "      <td>203873</td>\n",
       "      <td>1</td>\n",
       "      <td>HF023</td>\n",
       "      <td>NaN</td>\n",
       "      <td>9.0</td>\n",
       "      <td>10.0</td>\n",
       "      <td>Male</td>\n",
       "      <td>Alive</td>\n",
       "      <td>1.0</td>\n",
       "      <td>0</td>\n",
       "      <td>0</td>\n",
       "      <td>NaN</td>\n",
       "      <td>Birth</td>\n",
       "      <td>missing</td>\n",
       "      <td>alive</td>\n",
       "    </tr>\n",
       "    <tr>\n",
       "      <th>61015</th>\n",
       "      <td>203886</td>\n",
       "      <td>1</td>\n",
       "      <td>HF023</td>\n",
       "      <td>NaN</td>\n",
       "      <td>10.0</td>\n",
       "      <td>10.0</td>\n",
       "      <td>Female</td>\n",
       "      <td>Alive</td>\n",
       "      <td>1.0</td>\n",
       "      <td>0</td>\n",
       "      <td>0</td>\n",
       "      <td>NaN</td>\n",
       "      <td>Birth</td>\n",
       "      <td>missing</td>\n",
       "      <td>alive</td>\n",
       "    </tr>\n",
       "    <tr>\n",
       "      <th>61016</th>\n",
       "      <td>205920</td>\n",
       "      <td>1</td>\n",
       "      <td>HF023</td>\n",
       "      <td>NaN</td>\n",
       "      <td>NaN</td>\n",
       "      <td>NaN</td>\n",
       "      <td>NaN</td>\n",
       "      <td>NaN</td>\n",
       "      <td>1.0</td>\n",
       "      <td>0</td>\n",
       "      <td>0</td>\n",
       "      <td>NaN</td>\n",
       "      <td>Discharge_Preg</td>\n",
       "      <td>missing</td>\n",
       "      <td>NaN</td>\n",
       "    </tr>\n",
       "    <tr>\n",
       "      <th>61017</th>\n",
       "      <td>205938</td>\n",
       "      <td>1</td>\n",
       "      <td>HF023</td>\n",
       "      <td>NaN</td>\n",
       "      <td>4.0</td>\n",
       "      <td>4.0</td>\n",
       "      <td>Male</td>\n",
       "      <td>Alive</td>\n",
       "      <td>1.0</td>\n",
       "      <td>0</td>\n",
       "      <td>0</td>\n",
       "      <td>NaN</td>\n",
       "      <td>Birth</td>\n",
       "      <td>missing</td>\n",
       "      <td>alive</td>\n",
       "    </tr>\n",
       "  </tbody>\n",
       "</table>\n",
       "<p>61018 rows × 15 columns</p>\n",
       "</div>"
      ],
      "text/plain": [
       "           id  country Health  Facility Code  1-23  \\\n",
       "0      162230        2                      HF0004   \n",
       "1      127964        2                      HF0005   \n",
       "2      148113        2                      HF0006   \n",
       "3       95858        1                       HF014   \n",
       "4      206414        1                       HF007   \n",
       "...       ...      ...                         ...   \n",
       "61013  203864        1                       HF023   \n",
       "61014  203873        1                       HF023   \n",
       "61015  203886        1                       HF023   \n",
       "61016  205920        1                       HF023   \n",
       "61017  205938        1                       HF023   \n",
       "\n",
       "      Was the mother referred into facility prior devliery? (First Contact/Follow-up Form)/ Referred In (MAT Reg)   \\\n",
       "0                                                      1                                                             \n",
       "1                                                    NaN                                                             \n",
       "2                                                      0                                                             \n",
       "3                                                    NaN                                                             \n",
       "4                                                    NaN                                                             \n",
       "...                                                  ...                                                             \n",
       "61013                                                NaN                                                             \n",
       "61014                                                NaN                                                             \n",
       "61015                                                NaN                                                             \n",
       "61016                                                NaN                                                             \n",
       "61017                                                NaN                                                             \n",
       "\n",
       "       Infant's apgar score at 1  minute  Infant's apgar score at 5 minutes  \\\n",
       "0                                    7.0                                9.0   \n",
       "1                                    NaN                                NaN   \n",
       "2                                    NaN                                NaN   \n",
       "3                                   10.0                               10.0   \n",
       "4                                    9.0                               10.0   \n",
       "...                                  ...                                ...   \n",
       "61013                                9.0                               10.0   \n",
       "61014                                9.0                               10.0   \n",
       "61015                               10.0                               10.0   \n",
       "61016                                NaN                                NaN   \n",
       "61017                                4.0                                4.0   \n",
       "\n",
       "      Sex of infant at birth Baby's Status at Discharge   Multiple births  \\\n",
       "0                       Male                         NaN              1.0   \n",
       "1                        NaN                         NaN              1.0   \n",
       "2                        NaN                         NaN              1.0   \n",
       "3                       Male                       Alive              NaN   \n",
       "4                       Male                       Alive              1.0   \n",
       "...                      ...                         ...              ...   \n",
       "61013                 Female                       Alive              1.0   \n",
       "61014                   Male                       Alive              1.0   \n",
       "61015                 Female                       Alive              1.0   \n",
       "61016                    NaN                         NaN              1.0   \n",
       "61017                   Male                       Alive              1.0   \n",
       "\n",
       "       record  contains designation  that baby  was born  before  arrival at the  facility  \\\n",
       "0                                                      0                                     \n",
       "1                                                      0                                     \n",
       "2                                                      0                                     \n",
       "3                                                      0                                     \n",
       "4                                                      0                                     \n",
       "...                                                  ...                                     \n",
       "61013                                                  0                                     \n",
       "61014                                                  0                                     \n",
       "61015                                                  0                                     \n",
       "61016                                                  0                                     \n",
       "61017                                                  0                                     \n",
       "\n",
       "       record  contains documentation  that the pregnancy  outcome was a  spontneous abortion  \\\n",
       "0                                                      0                                        \n",
       "1                                                      0                                        \n",
       "2                                                      0                                        \n",
       "3                                                      0                                        \n",
       "4                                                      0                                        \n",
       "...                                                  ...                                        \n",
       "61013                                                  0                                        \n",
       "61014                                                  0                                        \n",
       "61015                                                  0                                        \n",
       "61016                                                  0                                        \n",
       "61017                                                  0                                        \n",
       "\n",
       "       record  conains designation that the fetal outcome was intrauterine fetal demise  \\\n",
       "0                                                    NaN                                  \n",
       "1                                                    NaN                                  \n",
       "2                                                    NaN                                  \n",
       "3                                                    NaN                                  \n",
       "4                                                    NaN                                  \n",
       "...                                                  ...                                  \n",
       "61013                                                NaN                                  \n",
       "61014                                                NaN                                  \n",
       "61015                                                NaN                                  \n",
       "61016                                                NaN                                  \n",
       "61017                                                NaN                                  \n",
       "\n",
       "      Designates whether record was considered a birth or not Mother's age  \\\n",
       "0                                                  Birth               ≤19   \n",
       "1                                         Discharge_Preg               ≤19   \n",
       "2                                         Discharge_Preg               ≤19   \n",
       "3                                                  Birth               ≤19   \n",
       "4                                                  Birth               ≤19   \n",
       "...                                                  ...               ...   \n",
       "61013                                              Birth           missing   \n",
       "61014                                              Birth           missing   \n",
       "61015                                              Birth           missing   \n",
       "61016                                     Discharge_Preg           missing   \n",
       "61017                                              Birth           missing   \n",
       "\n",
       "      Mother's Discharge Status   \n",
       "0               Discharged_Alive  \n",
       "1               Discharged_Alive  \n",
       "2               Discharged_Alive  \n",
       "3                          Alive  \n",
       "4                          alive  \n",
       "...                          ...  \n",
       "61013                      alive  \n",
       "61014                      alive  \n",
       "61015                      alive  \n",
       "61016                        NaN  \n",
       "61017                      alive  \n",
       "\n",
       "[61018 rows x 15 columns]"
      ]
     },
     "execution_count": 38,
     "metadata": {},
     "output_type": "execute_result"
    }
   ],
   "source": [
    "# Do you remember the `loc()` function? What do you think this code means? \n",
    "# You can refer to the cheatsheet or pandas documentation of you don't remember\n",
    "df.loc[:,:\"Mother's Discharge Status \"]"
   ]
  },
  {
   "cell_type": "code",
   "execution_count": 44,
   "metadata": {},
   "outputs": [],
   "source": [
    "# Can you similarly use the loc function to get all columns until the column `Multiple births`?\n"
   ]
  },
  {
   "cell_type": "code",
   "execution_count": null,
   "metadata": {},
   "outputs": [],
   "source": [
    "# What about getting the first 200 records from all columns? \n"
   ]
  },
  {
   "cell_type": "code",
   "execution_count": 46,
   "metadata": {},
   "outputs": [],
   "source": [
    "# Let's store the first 15 columns in a subset of our data\n",
    "df_15 = df.loc[:,:\"Mother's Discharge Status \"]"
   ]
  },
  {
   "cell_type": "markdown",
   "metadata": {},
   "source": [
    "#### Data Quality and Tidiness"
   ]
  },
  {
   "cell_type": "markdown",
   "metadata": {},
   "source": [
    "Since we don't know which columns may have any issues, we will slowly go over each column asking ourselves questions, based on what we know to be true from the study. For example, we know that this study was conducted in two countries. Is this reflected in the data?"
   ]
  },
  {
   "cell_type": "code",
   "execution_count": 55,
   "metadata": {},
   "outputs": [
    {
     "name": "stdout",
     "output_type": "stream",
     "text": [
      "<class 'pandas.core.frame.DataFrame'>\n",
      "RangeIndex: 61018 entries, 0 to 61017\n",
      "Data columns (total 15 columns):\n",
      " #   Column                                                                                                        Non-Null Count  Dtype  \n",
      "---  ------                                                                                                        --------------  -----  \n",
      " 0   id                                                                                                            61018 non-null  int64  \n",
      " 1   country                                                                                                       61018 non-null  int64  \n",
      " 2   Health  Facility Code  1-23                                                                                   61018 non-null  object \n",
      " 3   Was the mother referred into facility prior devliery? (First Contact/Follow-up Form)/ Referred In (MAT Reg)   36636 non-null  object \n",
      " 4   Infant's apgar score at 1  minute                                                                             46415 non-null  float64\n",
      " 5   Infant's apgar score at 5 minutes                                                                             40699 non-null  float64\n",
      " 6   Sex of infant at birth                                                                                        47357 non-null  object \n",
      " 7   Baby's Status at Discharge                                                                                    45208 non-null  object \n",
      " 8   Multiple births                                                                                               59472 non-null  float64\n",
      " 9   record  contains designation  that baby  was born  before  arrival at the  facility                           61018 non-null  int64  \n",
      " 10  record  contains documentation  that the pregnancy  outcome was a  spontneous abortion                        61018 non-null  int64  \n",
      " 11  record  conains designation that the fetal outcome was intrauterine fetal demise                              670 non-null    float64\n",
      " 12  Designates whether record was considered a birth or not                                                       61018 non-null  object \n",
      " 13  Mother's age                                                                                                  61018 non-null  object \n",
      " 14  Mother's Discharge Status                                                                                     50772 non-null  object \n",
      "dtypes: float64(4), int64(4), object(7)\n",
      "memory usage: 7.0+ MB\n"
     ]
    }
   ],
   "source": [
    "df_15.info()"
   ]
  },
  {
   "cell_type": "markdown",
   "metadata": {},
   "source": [
    "How many countries are included in this dataset? How are they represented in this data?\n",
    "*You can try finding the `unique()` countries*"
   ]
  },
  {
   "cell_type": "code",
   "execution_count": null,
   "metadata": {},
   "outputs": [],
   "source": []
  },
  {
   "cell_type": "markdown",
   "metadata": {},
   "source": [
    "What is the number of health facilities in the dataset? Is this consistent with what we expect from the study?"
   ]
  },
  {
   "cell_type": "code",
   "execution_count": 59,
   "metadata": {},
   "outputs": [
    {
     "data": {
      "text/plain": [
       "23"
      ]
     },
     "execution_count": 59,
     "metadata": {},
     "output_type": "execute_result"
    }
   ],
   "source": []
  },
  {
   "cell_type": "markdown",
   "metadata": {},
   "source": [
    "Now to the third column. This column asks the question 'Was the mother referred into the facility from another health facility before delivery?'. This happens a lot of times in hospitals. <br>\n",
    "Before looking at the data, how many answers do you think there can be to this question?<br>"
   ]
  },
  {
   "cell_type": "code",
   "execution_count": 67,
   "metadata": {},
   "outputs": [
    {
     "data": {
      "text/plain": [
       "array(['1', nan, '0', 'yes'], dtype=object)"
      ]
     },
     "execution_count": 67,
     "metadata": {},
     "output_type": "execute_result"
    }
   ],
   "source": [
    "df_15['Was the mother referred into facility prior devliery? (First Contact/Follow-up Form)/ Referred In (MAT Reg) '].unique()"
   ]
  },
  {
   "cell_type": "markdown",
   "metadata": {},
   "source": [
    "In a simple real world situation, there can only be three answers. **Yes**, **No**, and **I don't know**. In simpler cases, it would just be **Yes** and **No**.<br>\n",
    "This means that the maximum number of values that this column should have is three. Is this the case from our data? What do you think each value from our data means?"
   ]
  },
  {
   "cell_type": "code",
   "execution_count": null,
   "metadata": {},
   "outputs": [],
   "source": []
  },
  {
   "cell_type": "markdown",
   "metadata": {},
   "source": [
    "Have we already spotted a data quality issue? Which one do you think this is?"
   ]
  },
  {
   "cell_type": "code",
   "execution_count": 69,
   "metadata": {},
   "outputs": [
    {
     "data": {
      "text/plain": [
       "0      32302\n",
       "1       4331\n",
       "yes        3\n",
       "Name: Was the mother referred into facility prior devliery? (First Contact/Follow-up Form)/ Referred In (MAT Reg) , dtype: int64"
      ]
     },
     "execution_count": 69,
     "metadata": {},
     "output_type": "execute_result"
    }
   ],
   "source": [
    "df_15['Was the mother referred into facility prior devliery? (First Contact/Follow-up Form)/ Referred In (MAT Reg) '].value_counts()"
   ]
  },
  {
   "cell_type": "markdown",
   "metadata": {},
   "source": [
    "What is the data quality issue and how could we fix it?<br>\n",
    "**Answer here:**"
   ]
  },
  {
   "cell_type": "markdown",
   "metadata": {},
   "source": [
    "The next two columns deal with [apgar score](https://www.healthline.com/health/apgar-score#apgar-rubric). This is generally a scale from 0 - 10 that you can think of as a way to represent a baby's health. It is recorded at the first minute after birth, and five minutes after birth.<br>\n",
    "Now, this is really domain specific information, but before looking at the data, what values would you argue are expected when answering such a question?"
   ]
  },
  {
   "cell_type": "markdown",
   "metadata": {},
   "source": [
    "What does the data say?"
   ]
  },
  {
   "cell_type": "code",
   "execution_count": 71,
   "metadata": {},
   "outputs": [
    {
     "data": {
      "text/plain": [
       "array([ 7., nan, 10.,  9.,  6.,  8.,  4.,  0.,  5.,  2.,  3.,  1.])"
      ]
     },
     "execution_count": 71,
     "metadata": {},
     "output_type": "execute_result"
    }
   ],
   "source": [
    "df['Infant\\'s apgar score at 1  minute'].unique()"
   ]
  },
  {
   "cell_type": "code",
   "execution_count": 75,
   "metadata": {},
   "outputs": [
    {
     "data": {
      "text/plain": [
       "array([ 9., nan, 10.,  8.,  4.,  0.,  7.,  6.,  5.,  1.,  3.,  2.])"
      ]
     },
     "execution_count": 75,
     "metadata": {},
     "output_type": "execute_result"
    }
   ],
   "source": [
    "df['Infant\\'s apgar score at 5 minutes'].unique()"
   ]
  },
  {
   "cell_type": "markdown",
   "metadata": {},
   "source": [
    "Any data quality issues here? <br>\n",
    "What about data tidiness issues?<br>\n",
    "**Answer here:**"
   ]
  },
  {
   "cell_type": "markdown",
   "metadata": {},
   "source": [
    "The next column is `Sex of infant at birth`. What do you expect as responses here?"
   ]
  },
  {
   "cell_type": "code",
   "execution_count": 78,
   "metadata": {},
   "outputs": [
    {
     "data": {
      "text/plain": [
       "array(['Male', nan, 'Female', 'Not_indicated'], dtype=object)"
      ]
     },
     "execution_count": 78,
     "metadata": {},
     "output_type": "execute_result"
    }
   ],
   "source": [
    "# What does the data say?\n"
   ]
  },
  {
   "cell_type": "markdown",
   "metadata": {},
   "source": [
    "Any issues between expectations and data?"
   ]
  },
  {
   "cell_type": "code",
   "execution_count": null,
   "metadata": {},
   "outputs": [],
   "source": []
  },
  {
   "cell_type": "markdown",
   "metadata": {},
   "source": [
    "#### Assignment 1\n",
    "Do you see the questions we are asking ourselves before identifying issues with our data? Knowing what to expect, and confirming whether that is what we have in the data is very crucial in data cleaning. <br>\n",
    "Your first assignment is to contine with this trend for the remaining columns. We will skip into data cleaning for issues identified, but be sure to go through the remaining data."
   ]
  },
  {
   "cell_type": "code",
   "execution_count": null,
   "metadata": {},
   "outputs": [],
   "source": []
  },
  {
   "cell_type": "code",
   "execution_count": null,
   "metadata": {},
   "outputs": [],
   "source": []
  },
  {
   "cell_type": "markdown",
   "metadata": {},
   "source": [
    "#### Assignment 2:: Brainstorm\n",
    "Think about the data tidiness issues. Are there any different ways you could have changed this data to best suit, not only data tidiness, but also the purpose it is meant to serve? What do you think is the cause of any issues you come up with?"
   ]
  },
  {
   "cell_type": "code",
   "execution_count": null,
   "metadata": {},
   "outputs": [],
   "source": []
  },
  {
   "cell_type": "markdown",
   "metadata": {},
   "source": [
    "### Data cleaning"
   ]
  },
  {
   "cell_type": "markdown",
   "metadata": {},
   "source": [
    "We may not have gone deep into how to fix the data cleaning issues, but it's just applying the functions that we have already learned. One good first step to always cover is to rename all your columns in a way that allows you to easily manipulate your data. We should have done this at the very beginning, but we had not really understood our data well.For this notebook, I will rename the columns slowly as I deal with each one.<br>\n",
    "For this case, we will only focus on **data quality** issues. This dataset breaks plenty rules in data tidiness, but before we fix those, let's work on the data quality issues."
   ]
  },
  {
   "cell_type": "markdown",
   "metadata": {},
   "source": [
    "#### referral"
   ]
  },
  {
   "cell_type": "markdown",
   "metadata": {},
   "source": [
    "The first issue we identified was in the column `'Was the mother referred into facility prior devliery? (First Contact/Follow-up Form)/ Referred In (MAT Reg) '`. <br>\n",
    "In this column, we expect the responses to be either `yes`, `no`, or `nan`(which represents that we didn't find this data). From the data, we have `0` representing the `no` responses, `1` representing the `yes`, but we also have 3 values that also read `yes`.<br> \n",
    "Since we expect only `1`s and `0`s, the appearance of `yes` appears to be incorrect data, in terms of data representation.<br>\n",
    "We would fix this issue by replacing the `yes`s with `1`s"
   ]
  },
  {
   "cell_type": "markdown",
   "metadata": {},
   "source": [
    "We'll begin with renaming the column so as to work with it better"
   ]
  },
  {
   "cell_type": "code",
   "execution_count": 83,
   "metadata": {},
   "outputs": [],
   "source": [
    "df_15.rename(columns={\n",
    "             'Was the mother referred into facility prior devliery? (First Contact/Follow-up Form)/ Referred In (MAT Reg) ': 'referral_in'}, inplace=True)"
   ]
  },
  {
   "cell_type": "code",
   "execution_count": 87,
   "metadata": {},
   "outputs": [
    {
     "data": {
      "text/plain": [
       "0        False\n",
       "1        False\n",
       "2        False\n",
       "3        False\n",
       "4        False\n",
       "         ...  \n",
       "61013    False\n",
       "61014    False\n",
       "61015    False\n",
       "61016    False\n",
       "61017    False\n",
       "Name: referral_in, Length: 61018, dtype: bool"
      ]
     },
     "execution_count": 87,
     "metadata": {},
     "output_type": "execute_result"
    }
   ],
   "source": [
    "# then now, let's find where those 'yes's appear using the `isin()` function that we learnt\n",
    "df_15.referral_in.isin(['yes'])"
   ]
  },
  {
   "cell_type": "markdown",
   "metadata": {},
   "source": [
    "The response above is not so helpful. Remember how used square brackets to find the exact locations from boolean responses?"
   ]
  },
  {
   "cell_type": "code",
   "execution_count": 91,
   "metadata": {},
   "outputs": [
    {
     "data": {
      "text/html": [
       "<div>\n",
       "<style scoped>\n",
       "    .dataframe tbody tr th:only-of-type {\n",
       "        vertical-align: middle;\n",
       "    }\n",
       "\n",
       "    .dataframe tbody tr th {\n",
       "        vertical-align: top;\n",
       "    }\n",
       "\n",
       "    .dataframe thead th {\n",
       "        text-align: right;\n",
       "    }\n",
       "</style>\n",
       "<table border=\"1\" class=\"dataframe\">\n",
       "  <thead>\n",
       "    <tr style=\"text-align: right;\">\n",
       "      <th></th>\n",
       "      <th>id</th>\n",
       "      <th>country</th>\n",
       "      <th>Health  Facility Code  1-23</th>\n",
       "      <th>referral_in</th>\n",
       "      <th>Infant's apgar score at 1  minute</th>\n",
       "      <th>Infant's apgar score at 5 minutes</th>\n",
       "      <th>Sex of infant at birth</th>\n",
       "      <th>Baby's Status at Discharge</th>\n",
       "      <th>Multiple births</th>\n",
       "      <th>record  contains designation  that baby  was born  before  arrival at the  facility</th>\n",
       "      <th>record  contains documentation  that the pregnancy  outcome was a  spontneous abortion</th>\n",
       "      <th>record  conains designation that the fetal outcome was intrauterine fetal demise</th>\n",
       "      <th>Designates whether record was considered a birth or not</th>\n",
       "      <th>Mother's age</th>\n",
       "      <th>Mother's Discharge Status</th>\n",
       "    </tr>\n",
       "  </thead>\n",
       "  <tbody>\n",
       "    <tr>\n",
       "      <th>3421</th>\n",
       "      <td>76216</td>\n",
       "      <td>2</td>\n",
       "      <td>HF0006</td>\n",
       "      <td>yes</td>\n",
       "      <td>NaN</td>\n",
       "      <td>NaN</td>\n",
       "      <td>NaN</td>\n",
       "      <td>NaN</td>\n",
       "      <td>1.0</td>\n",
       "      <td>0</td>\n",
       "      <td>0</td>\n",
       "      <td>NaN</td>\n",
       "      <td>Discharge_Preg</td>\n",
       "      <td>≤19</td>\n",
       "      <td>Discharged_Alive</td>\n",
       "    </tr>\n",
       "    <tr>\n",
       "      <th>32352</th>\n",
       "      <td>76220</td>\n",
       "      <td>2</td>\n",
       "      <td>HF0006</td>\n",
       "      <td>yes</td>\n",
       "      <td>NaN</td>\n",
       "      <td>NaN</td>\n",
       "      <td>NaN</td>\n",
       "      <td>NaN</td>\n",
       "      <td>1.0</td>\n",
       "      <td>0</td>\n",
       "      <td>0</td>\n",
       "      <td>NaN</td>\n",
       "      <td>Discharge_Preg</td>\n",
       "      <td>20-24</td>\n",
       "      <td>Discharged_Alive</td>\n",
       "    </tr>\n",
       "    <tr>\n",
       "      <th>39129</th>\n",
       "      <td>76217</td>\n",
       "      <td>2</td>\n",
       "      <td>HF0006</td>\n",
       "      <td>yes</td>\n",
       "      <td>NaN</td>\n",
       "      <td>NaN</td>\n",
       "      <td>NaN</td>\n",
       "      <td>NaN</td>\n",
       "      <td>1.0</td>\n",
       "      <td>0</td>\n",
       "      <td>0</td>\n",
       "      <td>NaN</td>\n",
       "      <td>Discharge_Preg</td>\n",
       "      <td>25-29</td>\n",
       "      <td>Discharged_Alive</td>\n",
       "    </tr>\n",
       "  </tbody>\n",
       "</table>\n",
       "</div>"
      ],
      "text/plain": [
       "          id  country Health  Facility Code  1-23 referral_in  \\\n",
       "3421   76216        2                      HF0006         yes   \n",
       "32352  76220        2                      HF0006         yes   \n",
       "39129  76217        2                      HF0006         yes   \n",
       "\n",
       "       Infant's apgar score at 1  minute  Infant's apgar score at 5 minutes  \\\n",
       "3421                                 NaN                                NaN   \n",
       "32352                                NaN                                NaN   \n",
       "39129                                NaN                                NaN   \n",
       "\n",
       "      Sex of infant at birth Baby's Status at Discharge   Multiple births  \\\n",
       "3421                     NaN                         NaN              1.0   \n",
       "32352                    NaN                         NaN              1.0   \n",
       "39129                    NaN                         NaN              1.0   \n",
       "\n",
       "       record  contains designation  that baby  was born  before  arrival at the  facility  \\\n",
       "3421                                                   0                                     \n",
       "32352                                                  0                                     \n",
       "39129                                                  0                                     \n",
       "\n",
       "       record  contains documentation  that the pregnancy  outcome was a  spontneous abortion  \\\n",
       "3421                                                   0                                        \n",
       "32352                                                  0                                        \n",
       "39129                                                  0                                        \n",
       "\n",
       "       record  conains designation that the fetal outcome was intrauterine fetal demise  \\\n",
       "3421                                                 NaN                                  \n",
       "32352                                                NaN                                  \n",
       "39129                                                NaN                                  \n",
       "\n",
       "      Designates whether record was considered a birth or not Mother's age  \\\n",
       "3421                                      Discharge_Preg               ≤19   \n",
       "32352                                     Discharge_Preg             20-24   \n",
       "39129                                     Discharge_Preg             25-29   \n",
       "\n",
       "      Mother's Discharge Status   \n",
       "3421            Discharged_Alive  \n",
       "32352           Discharged_Alive  \n",
       "39129           Discharged_Alive  "
      ]
     },
     "execution_count": 91,
     "metadata": {},
     "output_type": "execute_result"
    }
   ],
   "source": [
    "df_15[df_15.referral_in.isin(['yes'])]"
   ]
  },
  {
   "cell_type": "markdown",
   "metadata": {},
   "source": [
    "Great! We can see that the indices `3421`, `32352`, and `39129` have `yes`s instead of `1`s. Now let's fix this. There are tons of ways to do this. We'll look at 2. Using conditions and the [loc](https://pandas.pydata.org/docs/reference/api/pandas.DataFrame.loc.html) method, and using the [replace](https://pandas.pydata.org/docs/reference/api/pandas.DataFrame.replace.html) function. "
   ]
  },
  {
   "cell_type": "markdown",
   "metadata": {},
   "source": [
    "##### `replace()` method"
   ]
  },
  {
   "cell_type": "markdown",
   "metadata": {},
   "source": [
    "This is fairly straight forward, just like the `replace` method in strings"
   ]
  },
  {
   "cell_type": "code",
   "execution_count": 116,
   "metadata": {},
   "outputs": [
    {
     "data": {
      "text/plain": [
       "0          1\n",
       "1        NaN\n",
       "2          0\n",
       "3        NaN\n",
       "4        NaN\n",
       "        ... \n",
       "61013    NaN\n",
       "61014    NaN\n",
       "61015    NaN\n",
       "61016    NaN\n",
       "61017    NaN\n",
       "Name: referral_in, Length: 61018, dtype: object"
      ]
     },
     "execution_count": 116,
     "metadata": {},
     "output_type": "execute_result"
    }
   ],
   "source": [
    "df_15.referral_in.replace({'yes':1})"
   ]
  },
  {
   "cell_type": "markdown",
   "metadata": {},
   "source": [
    "Again, the input is not so intuitive, especially because we have a lot of data. Let's look at the specific sections that we want to change using their indices"
   ]
  },
  {
   "cell_type": "code",
   "execution_count": 115,
   "metadata": {},
   "outputs": [
    {
     "data": {
      "text/plain": [
       "3421     1\n",
       "32352    1\n",
       "39129    1\n",
       "Name: referral_in, dtype: object"
      ]
     },
     "execution_count": 115,
     "metadata": {},
     "output_type": "execute_result"
    }
   ],
   "source": [
    "df_15.referral_in.replace({'yes':1})[[3421, 32352, 39129]]"
   ]
  },
  {
   "cell_type": "markdown",
   "metadata": {},
   "source": [
    "The output does not give us the whole dataframe, but we can see that the indices have been changed. <br>Like some other functions in `pandas`, `replace` requires you add the `inplace` argument to make changes to the original dataframe."
   ]
  },
  {
   "cell_type": "code",
   "execution_count": null,
   "metadata": {},
   "outputs": [],
   "source": [
    "df_15.referral_in.replace({'yes':1}, inplace=True)"
   ]
  },
  {
   "cell_type": "code",
   "execution_count": 107,
   "metadata": {},
   "outputs": [
    {
     "data": {
      "text/html": [
       "<div>\n",
       "<style scoped>\n",
       "    .dataframe tbody tr th:only-of-type {\n",
       "        vertical-align: middle;\n",
       "    }\n",
       "\n",
       "    .dataframe tbody tr th {\n",
       "        vertical-align: top;\n",
       "    }\n",
       "\n",
       "    .dataframe thead th {\n",
       "        text-align: right;\n",
       "    }\n",
       "</style>\n",
       "<table border=\"1\" class=\"dataframe\">\n",
       "  <thead>\n",
       "    <tr style=\"text-align: right;\">\n",
       "      <th></th>\n",
       "      <th>id</th>\n",
       "      <th>country</th>\n",
       "      <th>Health  Facility Code  1-23</th>\n",
       "      <th>referral_in</th>\n",
       "      <th>Infant's apgar score at 1  minute</th>\n",
       "      <th>Infant's apgar score at 5 minutes</th>\n",
       "      <th>Sex of infant at birth</th>\n",
       "      <th>Baby's Status at Discharge</th>\n",
       "      <th>Multiple births</th>\n",
       "      <th>record  contains designation  that baby  was born  before  arrival at the  facility</th>\n",
       "      <th>record  contains documentation  that the pregnancy  outcome was a  spontneous abortion</th>\n",
       "      <th>record  conains designation that the fetal outcome was intrauterine fetal demise</th>\n",
       "      <th>Designates whether record was considered a birth or not</th>\n",
       "      <th>Mother's age</th>\n",
       "      <th>Mother's Discharge Status</th>\n",
       "    </tr>\n",
       "  </thead>\n",
       "  <tbody>\n",
       "    <tr>\n",
       "      <th>3421</th>\n",
       "      <td>76216</td>\n",
       "      <td>2</td>\n",
       "      <td>HF0006</td>\n",
       "      <td>1</td>\n",
       "      <td>NaN</td>\n",
       "      <td>NaN</td>\n",
       "      <td>NaN</td>\n",
       "      <td>NaN</td>\n",
       "      <td>1.0</td>\n",
       "      <td>0</td>\n",
       "      <td>0</td>\n",
       "      <td>NaN</td>\n",
       "      <td>Discharge_Preg</td>\n",
       "      <td>≤19</td>\n",
       "      <td>Discharged_Alive</td>\n",
       "    </tr>\n",
       "    <tr>\n",
       "      <th>32352</th>\n",
       "      <td>76220</td>\n",
       "      <td>2</td>\n",
       "      <td>HF0006</td>\n",
       "      <td>1</td>\n",
       "      <td>NaN</td>\n",
       "      <td>NaN</td>\n",
       "      <td>NaN</td>\n",
       "      <td>NaN</td>\n",
       "      <td>1.0</td>\n",
       "      <td>0</td>\n",
       "      <td>0</td>\n",
       "      <td>NaN</td>\n",
       "      <td>Discharge_Preg</td>\n",
       "      <td>20-24</td>\n",
       "      <td>Discharged_Alive</td>\n",
       "    </tr>\n",
       "    <tr>\n",
       "      <th>39129</th>\n",
       "      <td>76217</td>\n",
       "      <td>2</td>\n",
       "      <td>HF0006</td>\n",
       "      <td>1</td>\n",
       "      <td>NaN</td>\n",
       "      <td>NaN</td>\n",
       "      <td>NaN</td>\n",
       "      <td>NaN</td>\n",
       "      <td>1.0</td>\n",
       "      <td>0</td>\n",
       "      <td>0</td>\n",
       "      <td>NaN</td>\n",
       "      <td>Discharge_Preg</td>\n",
       "      <td>25-29</td>\n",
       "      <td>Discharged_Alive</td>\n",
       "    </tr>\n",
       "  </tbody>\n",
       "</table>\n",
       "</div>"
      ],
      "text/plain": [
       "          id  country Health  Facility Code  1-23  referral_in  \\\n",
       "3421   76216        2                      HF0006            1   \n",
       "32352  76220        2                      HF0006            1   \n",
       "39129  76217        2                      HF0006            1   \n",
       "\n",
       "       Infant's apgar score at 1  minute  Infant's apgar score at 5 minutes  \\\n",
       "3421                                 NaN                                NaN   \n",
       "32352                                NaN                                NaN   \n",
       "39129                                NaN                                NaN   \n",
       "\n",
       "       Sex of infant at birth  Baby's Status at Discharge   Multiple births  \\\n",
       "3421                      NaN                          NaN              1.0   \n",
       "32352                     NaN                          NaN              1.0   \n",
       "39129                     NaN                          NaN              1.0   \n",
       "\n",
       "       record  contains designation  that baby  was born  before  arrival at the  facility  \\\n",
       "3421                                                   0                                     \n",
       "32352                                                  0                                     \n",
       "39129                                                  0                                     \n",
       "\n",
       "       record  contains documentation  that the pregnancy  outcome was a  spontneous abortion  \\\n",
       "3421                                                   0                                        \n",
       "32352                                                  0                                        \n",
       "39129                                                  0                                        \n",
       "\n",
       "       record  conains designation that the fetal outcome was intrauterine fetal demise  \\\n",
       "3421                                                 NaN                                  \n",
       "32352                                                NaN                                  \n",
       "39129                                                NaN                                  \n",
       "\n",
       "      Designates whether record was considered a birth or not Mother's age  \\\n",
       "3421                                      Discharge_Preg               ≤19   \n",
       "32352                                     Discharge_Preg             20-24   \n",
       "39129                                     Discharge_Preg             25-29   \n",
       "\n",
       "      Mother's Discharge Status   \n",
       "3421            Discharged_Alive  \n",
       "32352           Discharged_Alive  \n",
       "39129           Discharged_Alive  "
      ]
     },
     "execution_count": 107,
     "metadata": {},
     "output_type": "execute_result"
    }
   ],
   "source": [
    "\n",
    "df_15.loc[[3421, 32352, 39129]].replace({'yes':1})"
   ]
  },
  {
   "cell_type": "markdown",
   "metadata": {},
   "source": [
    "##### Conditions + the `loc` method"
   ]
  },
  {
   "cell_type": "code",
   "execution_count": 138,
   "metadata": {},
   "outputs": [],
   "source": [
    "# run this cell to revert the changes above\n",
    "df_15 = df.loc[:,:\"Mother's Discharge Status \"]\n",
    "df_15.rename(columns={\n",
    "             'Was the mother referred into facility prior devliery? (First Contact/Follow-up Form)/ Referred In (MAT Reg) ': 'referral_in'}, inplace=True)\n"
   ]
  },
  {
   "cell_type": "markdown",
   "metadata": {},
   "source": [
    "We already saw conditions in the intro to python notebooks. Remember `>`,`<`, and `==`. Even the `isin` function runs based on a certain condition. We are looking for plces where `referral_in` == `yes`."
   ]
  },
  {
   "cell_type": "code",
   "execution_count": 139,
   "metadata": {},
   "outputs": [
    {
     "data": {
      "text/plain": [
       "0        False\n",
       "1        False\n",
       "2        False\n",
       "3        False\n",
       "4        False\n",
       "         ...  \n",
       "61013    False\n",
       "61014    False\n",
       "61015    False\n",
       "61016    False\n",
       "61017    False\n",
       "Name: referral_in, Length: 61018, dtype: bool"
      ]
     },
     "execution_count": 139,
     "metadata": {},
     "output_type": "execute_result"
    }
   ],
   "source": [
    "df_15.referral_in == 'yes'"
   ]
  },
  {
   "cell_type": "markdown",
   "metadata": {},
   "source": [
    "Then our neat trick..."
   ]
  },
  {
   "cell_type": "code",
   "execution_count": 140,
   "metadata": {},
   "outputs": [
    {
     "data": {
      "text/html": [
       "<div>\n",
       "<style scoped>\n",
       "    .dataframe tbody tr th:only-of-type {\n",
       "        vertical-align: middle;\n",
       "    }\n",
       "\n",
       "    .dataframe tbody tr th {\n",
       "        vertical-align: top;\n",
       "    }\n",
       "\n",
       "    .dataframe thead th {\n",
       "        text-align: right;\n",
       "    }\n",
       "</style>\n",
       "<table border=\"1\" class=\"dataframe\">\n",
       "  <thead>\n",
       "    <tr style=\"text-align: right;\">\n",
       "      <th></th>\n",
       "      <th>id</th>\n",
       "      <th>country</th>\n",
       "      <th>Health  Facility Code  1-23</th>\n",
       "      <th>referral_in</th>\n",
       "      <th>Infant's apgar score at 1  minute</th>\n",
       "      <th>Infant's apgar score at 5 minutes</th>\n",
       "      <th>Sex of infant at birth</th>\n",
       "      <th>Baby's Status at Discharge</th>\n",
       "      <th>Multiple births</th>\n",
       "      <th>record  contains designation  that baby  was born  before  arrival at the  facility</th>\n",
       "      <th>record  contains documentation  that the pregnancy  outcome was a  spontneous abortion</th>\n",
       "      <th>record  conains designation that the fetal outcome was intrauterine fetal demise</th>\n",
       "      <th>Designates whether record was considered a birth or not</th>\n",
       "      <th>Mother's age</th>\n",
       "      <th>Mother's Discharge Status</th>\n",
       "    </tr>\n",
       "  </thead>\n",
       "  <tbody>\n",
       "    <tr>\n",
       "      <th>3421</th>\n",
       "      <td>76216</td>\n",
       "      <td>2</td>\n",
       "      <td>HF0006</td>\n",
       "      <td>yes</td>\n",
       "      <td>NaN</td>\n",
       "      <td>NaN</td>\n",
       "      <td>NaN</td>\n",
       "      <td>NaN</td>\n",
       "      <td>1.0</td>\n",
       "      <td>0</td>\n",
       "      <td>0</td>\n",
       "      <td>NaN</td>\n",
       "      <td>Discharge_Preg</td>\n",
       "      <td>≤19</td>\n",
       "      <td>Discharged_Alive</td>\n",
       "    </tr>\n",
       "    <tr>\n",
       "      <th>32352</th>\n",
       "      <td>76220</td>\n",
       "      <td>2</td>\n",
       "      <td>HF0006</td>\n",
       "      <td>yes</td>\n",
       "      <td>NaN</td>\n",
       "      <td>NaN</td>\n",
       "      <td>NaN</td>\n",
       "      <td>NaN</td>\n",
       "      <td>1.0</td>\n",
       "      <td>0</td>\n",
       "      <td>0</td>\n",
       "      <td>NaN</td>\n",
       "      <td>Discharge_Preg</td>\n",
       "      <td>20-24</td>\n",
       "      <td>Discharged_Alive</td>\n",
       "    </tr>\n",
       "    <tr>\n",
       "      <th>39129</th>\n",
       "      <td>76217</td>\n",
       "      <td>2</td>\n",
       "      <td>HF0006</td>\n",
       "      <td>yes</td>\n",
       "      <td>NaN</td>\n",
       "      <td>NaN</td>\n",
       "      <td>NaN</td>\n",
       "      <td>NaN</td>\n",
       "      <td>1.0</td>\n",
       "      <td>0</td>\n",
       "      <td>0</td>\n",
       "      <td>NaN</td>\n",
       "      <td>Discharge_Preg</td>\n",
       "      <td>25-29</td>\n",
       "      <td>Discharged_Alive</td>\n",
       "    </tr>\n",
       "  </tbody>\n",
       "</table>\n",
       "</div>"
      ],
      "text/plain": [
       "          id  country Health  Facility Code  1-23 referral_in  \\\n",
       "3421   76216        2                      HF0006         yes   \n",
       "32352  76220        2                      HF0006         yes   \n",
       "39129  76217        2                      HF0006         yes   \n",
       "\n",
       "       Infant's apgar score at 1  minute  Infant's apgar score at 5 minutes  \\\n",
       "3421                                 NaN                                NaN   \n",
       "32352                                NaN                                NaN   \n",
       "39129                                NaN                                NaN   \n",
       "\n",
       "      Sex of infant at birth Baby's Status at Discharge   Multiple births  \\\n",
       "3421                     NaN                         NaN              1.0   \n",
       "32352                    NaN                         NaN              1.0   \n",
       "39129                    NaN                         NaN              1.0   \n",
       "\n",
       "       record  contains designation  that baby  was born  before  arrival at the  facility  \\\n",
       "3421                                                   0                                     \n",
       "32352                                                  0                                     \n",
       "39129                                                  0                                     \n",
       "\n",
       "       record  contains documentation  that the pregnancy  outcome was a  spontneous abortion  \\\n",
       "3421                                                   0                                        \n",
       "32352                                                  0                                        \n",
       "39129                                                  0                                        \n",
       "\n",
       "       record  conains designation that the fetal outcome was intrauterine fetal demise  \\\n",
       "3421                                                 NaN                                  \n",
       "32352                                                NaN                                  \n",
       "39129                                                NaN                                  \n",
       "\n",
       "      Designates whether record was considered a birth or not Mother's age  \\\n",
       "3421                                      Discharge_Preg               ≤19   \n",
       "32352                                     Discharge_Preg             20-24   \n",
       "39129                                     Discharge_Preg             25-29   \n",
       "\n",
       "      Mother's Discharge Status   \n",
       "3421            Discharged_Alive  \n",
       "32352           Discharged_Alive  \n",
       "39129           Discharged_Alive  "
      ]
     },
     "execution_count": 140,
     "metadata": {},
     "output_type": "execute_result"
    }
   ],
   "source": [
    "df_15[df_15.referral_in == 'yes']"
   ]
  },
  {
   "cell_type": "markdown",
   "metadata": {},
   "source": [
    "Just like the `isin` function. One difference is that with the `isin`, you have to feed a list as the argument. This is why we use square brackets when using `isin`. Let's now add the `loc` method."
   ]
  },
  {
   "cell_type": "code",
   "execution_count": 141,
   "metadata": {},
   "outputs": [],
   "source": [
    "df_15.loc[df_15.referral_in == 'yes', 'referral_in'] = 1"
   ]
  },
  {
   "cell_type": "markdown",
   "metadata": {},
   "source": [
    "The above cell makes all changes we want. Checkout [documentation](https://pandas.pydata.org/docs/reference/api/pandas.DataFrame.loc.html) for the loc method if it still looks unfamiliar. \n",
    "<br>\n",
    "However, here is how you can think of it:\n",
    "<br>\n",
    "Use a condition to get the section where you want to make your changes: `df_15.referral_in == 'yes'`<br>\n",
    "The loc function just allows us to add an extra argument after feeding the condition: where you want to make that change(which column): `df.loc[..., 'referral_in']`, and what the change is(change whatever is in the condition to 1): `df.loc[...] = 1`<br>\n"
   ]
  },
  {
   "cell_type": "code",
   "execution_count": 142,
   "metadata": {},
   "outputs": [
    {
     "data": {
      "text/html": [
       "<div>\n",
       "<style scoped>\n",
       "    .dataframe tbody tr th:only-of-type {\n",
       "        vertical-align: middle;\n",
       "    }\n",
       "\n",
       "    .dataframe tbody tr th {\n",
       "        vertical-align: top;\n",
       "    }\n",
       "\n",
       "    .dataframe thead th {\n",
       "        text-align: right;\n",
       "    }\n",
       "</style>\n",
       "<table border=\"1\" class=\"dataframe\">\n",
       "  <thead>\n",
       "    <tr style=\"text-align: right;\">\n",
       "      <th></th>\n",
       "      <th>id</th>\n",
       "      <th>country</th>\n",
       "      <th>Health  Facility Code  1-23</th>\n",
       "      <th>referral_in</th>\n",
       "      <th>Infant's apgar score at 1  minute</th>\n",
       "      <th>Infant's apgar score at 5 minutes</th>\n",
       "      <th>Sex of infant at birth</th>\n",
       "      <th>Baby's Status at Discharge</th>\n",
       "      <th>Multiple births</th>\n",
       "      <th>record  contains designation  that baby  was born  before  arrival at the  facility</th>\n",
       "      <th>record  contains documentation  that the pregnancy  outcome was a  spontneous abortion</th>\n",
       "      <th>record  conains designation that the fetal outcome was intrauterine fetal demise</th>\n",
       "      <th>Designates whether record was considered a birth or not</th>\n",
       "      <th>Mother's age</th>\n",
       "      <th>Mother's Discharge Status</th>\n",
       "    </tr>\n",
       "  </thead>\n",
       "  <tbody>\n",
       "  </tbody>\n",
       "</table>\n",
       "</div>"
      ],
      "text/plain": [
       "Empty DataFrame\n",
       "Columns: [id, country, Health  Facility Code  1-23, referral_in, Infant's apgar score at 1  minute, Infant's apgar score at 5 minutes, Sex of infant at birth, Baby's Status at Discharge , Multiple births, record  contains designation  that baby  was born  before  arrival at the  facility, record  contains documentation  that the pregnancy  outcome was a  spontneous abortion, record  conains designation that the fetal outcome was intrauterine fetal demise, Designates whether record was considered a birth or not, Mother's age, Mother's Discharge Status ]\n",
       "Index: []"
      ]
     },
     "execution_count": 142,
     "metadata": {},
     "output_type": "execute_result"
    }
   ],
   "source": [
    "# Now when we try to find where the `yes` are, there are none\n",
    "df_15[df_15.referral_in == 'yes']"
   ]
  },
  {
   "cell_type": "markdown",
   "metadata": {},
   "source": [
    "#### sex"
   ]
  },
  {
   "cell_type": "markdown",
   "metadata": {},
   "source": [
    "Greaat! You can use whichever method to clean the data. Can you make similar changes to the next column: `Sex of infant at birth`? There are some unneccesary values within."
   ]
  },
  {
   "cell_type": "code",
   "execution_count": 134,
   "metadata": {},
   "outputs": [
    {
     "data": {
      "text/plain": [
       "Male             24251\n",
       "Female           22734\n",
       "NaN              13661\n",
       "Not_indicated      372\n",
       "Name: Sex of infant at birth, dtype: int64"
      ]
     },
     "execution_count": 134,
     "metadata": {},
     "output_type": "execute_result"
    }
   ],
   "source": [
    "df_15['Sex of infant at birth'].value_counts(dropna= False)"
   ]
  },
  {
   "cell_type": "code",
   "execution_count": null,
   "metadata": {},
   "outputs": [],
   "source": []
  },
  {
   "cell_type": "code",
   "execution_count": null,
   "metadata": {},
   "outputs": [],
   "source": [
    "\n"
   ]
  },
  {
   "cell_type": "markdown",
   "metadata": {},
   "source": [
    "#### Assignment 3\n",
    "Continue with fixing other data quality issues in this dataset before going to data tidiness."
   ]
  },
  {
   "cell_type": "code",
   "execution_count": null,
   "metadata": {},
   "outputs": [],
   "source": []
  },
  {
   "cell_type": "code",
   "execution_count": null,
   "metadata": {},
   "outputs": [],
   "source": []
  }
 ],
 "metadata": {
  "kernelspec": {
   "display_name": "Python 3",
   "language": "python",
   "name": "python3"
  },
  "language_info": {
   "codemirror_mode": {
    "name": "ipython",
    "version": 3
   },
   "file_extension": ".py",
   "mimetype": "text/x-python",
   "name": "python",
   "nbconvert_exporter": "python",
   "pygments_lexer": "ipython3",
   "version": "3.10.2"
  }
 },
 "nbformat": 4,
 "nbformat_minor": 2
}
